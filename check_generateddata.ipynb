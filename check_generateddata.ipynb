{
 "cells": [
  {
   "cell_type": "code",
   "execution_count": 2,
   "metadata": {},
   "outputs": [],
   "source": [
    "from PIL import Image\n",
    "import os, glob\n",
    "import numpy as np\n",
    "from sklearn import model_selection\n",
    "\n",
    "classes = [\"monkey\",\"boar\",\"crow\"]\n",
    "num_classes = len(classes)\n",
    "\n",
    "# 計算時間の短縮のために画像の縮小をする\n",
    "image_size = 50\n",
    "\n",
    "# 画像の読み込み\n",
    "\n",
    "X = []\n",
    "Y = []\n",
    "for index, classlabel in enumerate(classes):\n",
    "    photos_dir = \"./\" + classlabel \n",
    "    files = glob.glob(photos_dir + \"/*.jpg\")\n",
    "    for i, file in enumerate(files):\n",
    "        # 79個まで（boar画像のMAX個数）の画像を処理に使う\n",
    "        if i >= 79: break\n",
    "        # ファイルを開く\n",
    "        image = Image.open(file)\n",
    "        # RGB値に変換\n",
    "        image = image.convert(\"RGB\")\n",
    "        # imageをリサイズ\n",
    "        image = image.resize((image_size, image_size))\n",
    "        # numpyで扱うため配列に変換\n",
    "        data = np.asarray(image)\n",
    "        # データを追加\n",
    "        X.append(data)\n",
    "        Y.append(index)\n",
    "\n",
    "# tensorflowが扱いやすいnumpyの配列に変換\n",
    "X = np.array(X)\n",
    "Y = np.array(Y)\n",
    "\n",
    "X_train, X_test, Y_train, Y_test = model_selection.train_test_split(X,Y)\n",
    "xy = (X_train, X_test, Y_train, Y_test)\n",
    "np.save(\"./animal.npy\", xy)\n",
    "\n"
   ]
  },
  {
   "cell_type": "code",
   "execution_count": 3,
   "metadata": {},
   "outputs": [
    {
     "data": {
      "text/plain": [
       "177"
      ]
     },
     "execution_count": 3,
     "metadata": {},
     "output_type": "execute_result"
    }
   ],
   "source": [
    "len(X_train)"
   ]
  },
  {
   "cell_type": "code",
   "execution_count": 4,
   "metadata": {},
   "outputs": [
    {
     "data": {
      "text/plain": [
       "60"
      ]
     },
     "execution_count": 4,
     "metadata": {},
     "output_type": "execute_result"
    }
   ],
   "source": [
    "len(X_test)"
   ]
  },
  {
   "cell_type": "code",
   "execution_count": 5,
   "metadata": {},
   "outputs": [
    {
     "data": {
      "text/plain": [
       "array([[[ 30,  29,  24],\n",
       "        [ 31,  30,  25],\n",
       "        [ 33,  32,  27],\n",
       "        ...,\n",
       "        [ 30,  18,   4],\n",
       "        [ 60,  40,  16],\n",
       "        [167, 136, 108]],\n",
       "\n",
       "       [[ 33,  32,  27],\n",
       "        [ 33,  32,  27],\n",
       "        [ 33,  32,  27],\n",
       "        ...,\n",
       "        [140, 109,  80],\n",
       "        [194, 147, 103],\n",
       "        [160, 120,  84]],\n",
       "\n",
       "       [[ 32,  31,  26],\n",
       "        [ 32,  31,  26],\n",
       "        [ 32,  31,  26],\n",
       "        ...,\n",
       "        [194, 147, 103],\n",
       "        [199, 150, 107],\n",
       "        [150, 112,  76]],\n",
       "\n",
       "       ...,\n",
       "\n",
       "       [[168, 138, 100],\n",
       "        [135, 110,  80],\n",
       "        [179, 137,  97],\n",
       "        ...,\n",
       "        [122,  94,  70],\n",
       "        [178, 154, 108],\n",
       "        [117,  99,  53]],\n",
       "\n",
       "       [[118,  92,  65],\n",
       "        [138, 116,  93],\n",
       "        [158, 127,  98],\n",
       "        ...,\n",
       "        [193, 158, 130],\n",
       "        [159, 126,  95],\n",
       "        [116,  93,  61]],\n",
       "\n",
       "       [[155, 122,  91],\n",
       "        [117,  85,  60],\n",
       "        [165, 122,  88],\n",
       "        ...,\n",
       "        [171, 136, 106],\n",
       "        [199, 160, 131],\n",
       "        [130, 103,  73]]], dtype=uint8)"
      ]
     },
     "execution_count": 5,
     "metadata": {},
     "output_type": "execute_result"
    }
   ],
   "source": [
    "X_train[100]"
   ]
  },
  {
   "cell_type": "code",
   "execution_count": 6,
   "metadata": {},
   "outputs": [
    {
     "data": {
      "text/plain": [
       "(177, 50, 50, 3)"
      ]
     },
     "execution_count": 6,
     "metadata": {},
     "output_type": "execute_result"
    }
   ],
   "source": [
    "X_train.shape"
   ]
  },
  {
   "cell_type": "code",
   "execution_count": 7,
   "metadata": {},
   "outputs": [
    {
     "data": {
      "text/plain": [
       "(50, 50, 3)"
      ]
     },
     "execution_count": 7,
     "metadata": {},
     "output_type": "execute_result"
    }
   ],
   "source": [
    "X_train.shape[1:]"
   ]
  },
  {
   "cell_type": "code",
   "execution_count": null,
   "metadata": {},
   "outputs": [],
   "source": []
  }
 ],
 "metadata": {
  "kernelspec": {
   "display_name": "Python 3",
   "language": "python",
   "name": "python3"
  },
  "language_info": {
   "codemirror_mode": {
    "name": "ipython",
    "version": 3
   },
   "file_extension": ".py",
   "mimetype": "text/x-python",
   "name": "python",
   "nbconvert_exporter": "python",
   "pygments_lexer": "ipython3",
   "version": "3.6.6"
  }
 },
 "nbformat": 4,
 "nbformat_minor": 2
}
